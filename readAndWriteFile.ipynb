{
 "cells": [
  {
   "cell_type": "markdown",
   "id": "fifteen-reminder",
   "metadata": {},
   "source": [
    "<center>\n",
    "    <img src=\"https://github.com/surPoudel/basicPythonforBeginners/blob/main/class_logo_chapter1.png?raw=true\" width=\"1000\"/>\n",
    "</center>\n",
    "\n",
    "# Read a csv file in python\n",
    "\n",
    "Estimated time needed: **5** minutes\n",
    "\n",
    "## Objectives\n",
    "\n",
    "After completing this lab you will be able to:\n",
    "\n",
    "*   Read a csv file in python\n",
    "\n",
    "## Test input file\n",
    "*   drug200.csv"
   ]
  },
  {
   "cell_type": "code",
   "execution_count": 12,
   "id": "informed-sociology",
   "metadata": {},
   "outputs": [],
   "source": [
    "filename = \"drug200.csv\""
   ]
  },
  {
   "cell_type": "markdown",
   "id": "assisted-criminal",
   "metadata": {},
   "source": [
    "### Here I introduce open function in python\n",
    "\n",
    "*   The open() function opens a file, and returns it as a file object."
   ]
  },
  {
   "cell_type": "markdown",
   "id": "mechanical-miami",
   "metadata": {},
   "source": [
    "### Multiple ways to open a file\n",
    "*   using with statement - automatically closes the file, simplifies exception handling\n",
    "*   without using with statement - we need to close the file "
   ]
  },
  {
   "cell_type": "markdown",
   "id": "automotive-contract",
   "metadata": {},
   "source": [
    "## mode defines how we wanted to treat the file\n",
    "* \"r\" - Read - Default value. Opens a file for reading, error if the file does not exist\n",
    "\n",
    "* \"a\" - Append - Opens a file for appending, creates the file if it does not exist\n",
    "\n",
    "* \"w\" - Write - Opens a file for writing, creates the file if it does not exist\n",
    "\n",
    "* \"x\" - Create - Creates the specified file, returns an error if the file exist"
   ]
  },
  {
   "cell_type": "markdown",
   "id": "healthy-pioneer",
   "metadata": {},
   "source": [
    "## Strategy 1"
   ]
  },
  {
   "cell_type": "code",
   "execution_count": 13,
   "id": "usual-master",
   "metadata": {},
   "outputs": [
    {
     "name": "stdout",
     "output_type": "stream",
     "text": [
      "Age,Sex,BP,Cholesterol,Na_to_K,Drug\n",
      "23,F,HIGH,HIGH,25.355,drugY\n",
      "47,M,LOW,HIGH,13.093,drugC\n",
      "47,M,LOW,HIGH,10.114,drugC\n",
      "28,F,NORMAL,HIGH,7.798,drugX\n",
      "61,F,LOW,HIGH,18.043,drugY\n",
      "22,F,NORMAL,HIGH,8.607,drugX\n",
      "49,F,NORMAL,HIGH,16.275,drugY\n",
      "41,M,LOW,HIGH,11.037,drugC\n",
      "60,M,NORMAL,HIGH,15.171,drugY\n",
      "72,M,LOW,HIGH,16.31,drugY\n",
      "72,M,LOW,HIGH,6.769,drugC\n",
      "46,F,HIGH,HIGH,34.686,drugY\n",
      "56,F,LOW,HIGH,11.567,drugC\n",
      "16,M,LOW,HIGH,12.006,drugC\n",
      "52,M,NORMAL,HIGH,9.894,drugX\n",
      "23,M,NORMAL,NORMAL,14.02,drugX\n",
      "40,F,LOW,NORMAL,11.349,drugX\n"
     ]
    }
   ],
   "source": [
    "#code using with statement\n",
    "with open (filename,\"r\") as f:\n",
    "    for line in f:\n",
    "        print (line.strip()) #here i introduce strip function that is useful to remove whitespace see the following link https://www.w3schools.com/python/ref_string_strip.asp"
   ]
  },
  {
   "cell_type": "markdown",
   "id": "ceramic-serbia",
   "metadata": {},
   "source": [
    "## Strategy 2"
   ]
  },
  {
   "cell_type": "code",
   "execution_count": 14,
   "id": "twelve-viking",
   "metadata": {},
   "outputs": [
    {
     "name": "stdout",
     "output_type": "stream",
     "text": [
      "Age,Sex,BP,Cholesterol,Na_to_K,Drug\n",
      "23,F,HIGH,HIGH,25.355,drugY\n",
      "47,M,LOW,HIGH,13.093,drugC\n",
      "47,M,LOW,HIGH,10.114,drugC\n",
      "28,F,NORMAL,HIGH,7.798,drugX\n",
      "61,F,LOW,HIGH,18.043,drugY\n",
      "22,F,NORMAL,HIGH,8.607,drugX\n",
      "49,F,NORMAL,HIGH,16.275,drugY\n",
      "41,M,LOW,HIGH,11.037,drugC\n",
      "60,M,NORMAL,HIGH,15.171,drugY\n",
      "72,M,LOW,HIGH,16.31,drugY\n",
      "72,M,LOW,HIGH,6.769,drugC\n",
      "46,F,HIGH,HIGH,34.686,drugY\n",
      "56,F,LOW,HIGH,11.567,drugC\n",
      "16,M,LOW,HIGH,12.006,drugC\n",
      "52,M,NORMAL,HIGH,9.894,drugX\n",
      "23,M,NORMAL,NORMAL,14.02,drugX\n",
      "40,F,LOW,NORMAL,11.349,drugX\n"
     ]
    }
   ],
   "source": [
    "#Without the with statement and returns it as a file object\n",
    "file = open(filename)\n",
    "data = file.read()\n",
    "print (data)\n",
    "file.close()"
   ]
  },
  {
   "cell_type": "markdown",
   "id": "leading-breed",
   "metadata": {},
   "source": [
    "## Strategy 3"
   ]
  },
  {
   "cell_type": "code",
   "execution_count": 15,
   "id": "female-democracy",
   "metadata": {},
   "outputs": [
    {
     "name": "stdout",
     "output_type": "stream",
     "text": [
      "Age,Sex,BP,Cholesterol,Na_to_K,Drug\n",
      "23,F,HIGH,HIGH,25.355,drugY\n",
      "47,M,LOW,HIGH,13.093,drugC\n",
      "47,M,LOW,HIGH,10.114,drugC\n",
      "28,F,NORMAL,HIGH,7.798,drugX\n",
      "61,F,LOW,HIGH,18.043,drugY\n",
      "22,F,NORMAL,HIGH,8.607,drugX\n",
      "49,F,NORMAL,HIGH,16.275,drugY\n",
      "41,M,LOW,HIGH,11.037,drugC\n",
      "60,M,NORMAL,HIGH,15.171,drugY\n",
      "72,M,LOW,HIGH,16.31,drugY\n",
      "72,M,LOW,HIGH,6.769,drugC\n",
      "46,F,HIGH,HIGH,34.686,drugY\n",
      "56,F,LOW,HIGH,11.567,drugC\n",
      "16,M,LOW,HIGH,12.006,drugC\n",
      "52,M,NORMAL,HIGH,9.894,drugX\n",
      "23,M,NORMAL,NORMAL,14.02,drugX\n",
      "40,F,LOW,NORMAL,11.349,drugX\n"
     ]
    }
   ],
   "source": [
    "#without the with statement but reading the file as an object f\n",
    "f = open(filename, \"r\")\n",
    "print(f.read())"
   ]
  },
  {
   "cell_type": "markdown",
   "id": "framed-large",
   "metadata": {},
   "source": [
    "## An example of writing a file"
   ]
  },
  {
   "cell_type": "code",
   "execution_count": 16,
   "id": "miniature-absolute",
   "metadata": {},
   "outputs": [],
   "source": [
    "with open(\"result.txt\", \"w\") as g:\n",
    "    g.write(\"This is an example of writing the file. Please see the output named result.txt in the folder\")"
   ]
  },
  {
   "cell_type": "code",
   "execution_count": null,
   "id": "recent-grant",
   "metadata": {},
   "outputs": [],
   "source": []
  }
 ],
 "metadata": {
  "kernelspec": {
   "display_name": "Python 3",
   "language": "python",
   "name": "python3"
  },
  "language_info": {
   "codemirror_mode": {
    "name": "ipython",
    "version": 3
   },
   "file_extension": ".py",
   "mimetype": "text/x-python",
   "name": "python",
   "nbconvert_exporter": "python",
   "pygments_lexer": "ipython3",
   "version": "3.7.10"
  }
 },
 "nbformat": 4,
 "nbformat_minor": 5
}
