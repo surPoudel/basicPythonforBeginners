{
 "cells": [
  {
   "cell_type": "markdown",
   "id": "attractive-simon",
   "metadata": {},
   "source": [
    "<center>\n",
    "    <img src=\"https://github.com/surPoudel/basicPythonforBeginners/blob/main/Chapter2/logo.png?raw=true\" width=\"1000\" alt=\"cognitiveclass.ai logo\"  />\n",
    "</center>"
   ]
  },
  {
   "cell_type": "markdown",
   "id": "foster-screening",
   "metadata": {},
   "source": [
    "# Chapter 2\n",
    "## Writing functions\n",
    "\n",
    "### A function is a block of code that only runs when it is called. Python functions return a value using a return statement, if one is specified. A function can be called anywhere after the function has been declared"
   ]
  },
  {
   "cell_type": "markdown",
   "id": "legendary-honey",
   "metadata": {},
   "source": [
    "## Import numpy package\n",
    "* stands for Numerical Python, is a library consisting of multidimensional array objects and a collection of routines for processing those arrays. Using NumPy, mathematical and logical operations on arrays can be performed. "
   ]
  },
  {
   "cell_type": "code",
   "execution_count": 1,
   "id": "faced-advocate",
   "metadata": {},
   "outputs": [],
   "source": [
    "import numpy as np"
   ]
  },
  {
   "cell_type": "markdown",
   "id": "realistic-finance",
   "metadata": {},
   "source": [
    "### Example of a function that computes average from a list of number"
   ]
  },
  {
   "cell_type": "markdown",
   "id": "prospective-checkout",
   "metadata": {},
   "source": [
    "### We have a new term called list. So what is list?\n",
    "* Lists are used to store multiple items in a single variable.\n",
    "* Lists are one of 4 built-in data types in Python used to store collections of data\n",
    "* Lists are created using square brackets"
   ]
  },
  {
   "cell_type": "markdown",
   "id": "opposite-education",
   "metadata": {},
   "source": [
    "## Simple list operations"
   ]
  },
  {
   "cell_type": "markdown",
   "id": "offshore-involvement",
   "metadata": {},
   "source": [
    "* https://www.educba.com/list-operations-in-python/\n",
    "\n",
    "I find this website pretty useful. This gives common lists operation in python\n",
    "1. append()\n",
    "2. extend()\n",
    "3. insert()\n",
    "4. remove()\n",
    "5. pop()\n",
    "6. slice()\n",
    "7. reverse()\n",
    "8. len()\n",
    "9. min() and max()\n",
    "10. count()\n",
    "11. concatenate\n",
    "12. multiply\n",
    "13. index()\n",
    "14. sort()\n",
    "15. clear()\n",
    "\n",
    "\n",
    "I just put 3 list examples here"
   ]
  },
  {
   "cell_type": "markdown",
   "id": "informal-armenia",
   "metadata": {},
   "source": [
    "### The append() method is used to add elements at the end of the list. This method can only add a single element at a time. To add multiple elements, the append() method can be used inside a loop."
   ]
  },
  {
   "cell_type": "code",
   "execution_count": 23,
   "id": "numeric-wildlife",
   "metadata": {},
   "outputs": [
    {
     "name": "stdout",
     "output_type": "stream",
     "text": [
      "[1, 2, 3, 4]\n"
     ]
    }
   ],
   "source": [
    "#appends\n",
    "myList = [1, 2, 3]\n",
    "myList.append(4) #4 is appended to myList\n",
    "\n",
    "print(myList) #myList now becomes [1,2,3,4]"
   ]
  },
  {
   "cell_type": "markdown",
   "id": "relevant-melbourne",
   "metadata": {},
   "source": [
    "### The extend() method is used to add more than one element at the end of the list. Although it can add more than one element, unlike append(), it adds them at the end of the list like append()"
   ]
  },
  {
   "cell_type": "code",
   "execution_count": 24,
   "id": "polar-hormone",
   "metadata": {},
   "outputs": [
    {
     "name": "stdout",
     "output_type": "stream",
     "text": [
      "[1, 2, 3, 4, 4, 5, 6]\n"
     ]
    }
   ],
   "source": [
    "#list extends\n",
    "myList.extend([4, 5, 6]) #myList  [1,2,3,4] is extended with another list [4, 5, 6]\n",
    "print(myList) #myList now becomes [1, 2, 3, 4, 4, 5, 6]"
   ]
  },
  {
   "cell_type": "markdown",
   "id": "prostate-thomson",
   "metadata": {},
   "source": [
    "### The insert() method can add an element at a given position in the list. Thus, unlike append(), it can add elements at any position, but like append(), it can add only one element at a time. This method takes two arguments. The first argument specifies the position, and the second argument specifies the element to be inserted."
   ]
  },
  {
   "cell_type": "code",
   "execution_count": 25,
   "id": "particular-burke",
   "metadata": {},
   "outputs": [],
   "source": [
    "myList.insert(3, 4)"
   ]
  },
  {
   "cell_type": "code",
   "execution_count": 26,
   "id": "charitable-suicide",
   "metadata": {},
   "outputs": [
    {
     "name": "stdout",
     "output_type": "stream",
     "text": [
      "[1, 2, 3, 4, 4, 4, 5, 6]\n"
     ]
    }
   ],
   "source": [
    "print(myList)"
   ]
  },
  {
   "cell_type": "markdown",
   "id": "nonprofit-woman",
   "metadata": {},
   "source": [
    "#### Try other list operations from https://www.educba.com/list-operations-in-python/ or any other tuturials"
   ]
  },
  {
   "cell_type": "markdown",
   "id": "induced-analysis",
   "metadata": {},
   "source": [
    "## Introduction to functions"
   ]
  },
  {
   "cell_type": "markdown",
   "id": "upper-interest",
   "metadata": {},
   "source": [
    "### Example of functions that returns average of a list .. list are described above"
   ]
  },
  {
   "cell_type": "code",
   "execution_count": 2,
   "id": "controlling-mercy",
   "metadata": {},
   "outputs": [],
   "source": [
    "\n",
    "def average(list):\n",
    "    return np.mean(list)"
   ]
  },
  {
   "cell_type": "markdown",
   "id": "accompanied-competition",
   "metadata": {},
   "source": [
    "### Example of a function that multiply two numbers"
   ]
  },
  {
   "cell_type": "code",
   "execution_count": 8,
   "id": "exciting-insertion",
   "metadata": {},
   "outputs": [],
   "source": [
    "def multiply(x,y):\n",
    "    return x*y"
   ]
  },
  {
   "cell_type": "markdown",
   "id": "greenhouse-credits",
   "metadata": {},
   "source": [
    "### Example of a function that computes division from 2 numvers\n"
   ]
  },
  {
   "cell_type": "code",
   "execution_count": 9,
   "id": "foster-friendly",
   "metadata": {},
   "outputs": [],
   "source": [
    "def divide(x,y):\n",
    "    return x/y"
   ]
  },
  {
   "cell_type": "markdown",
   "id": "proof-facing",
   "metadata": {},
   "source": [
    "### Since we wrote the functions,we can call the function from any part of code"
   ]
  },
  {
   "cell_type": "code",
   "execution_count": 10,
   "id": "breeding-yellow",
   "metadata": {},
   "outputs": [
    {
     "name": "stdout",
     "output_type": "stream",
     "text": [
      "The average of list is 2.5\n"
     ]
    }
   ],
   "source": [
    "#example of list\n",
    "testList = [1,2,3,4]\n",
    "print (\"The average of list is\", average(testList)) \n",
    "\n"
   ]
  },
  {
   "cell_type": "markdown",
   "id": "based-salon",
   "metadata": {},
   "source": [
    "#### we do not need too rewrite the same function as we can call from any location"
   ]
  },
  {
   "cell_type": "code",
   "execution_count": 12,
   "id": "entitled-qatar",
   "metadata": {},
   "outputs": [
    {
     "name": "stdout",
     "output_type": "stream",
     "text": [
      "The average of list is 20.0\n"
     ]
    }
   ],
   "source": [
    "#example of list\n",
    "testList = [10,20,30]\n",
    "print (\"The average of list is\", average(testList)) \n",
    "\n",
    "\n"
   ]
  },
  {
   "cell_type": "code",
   "execution_count": 11,
   "id": "balanced-closer",
   "metadata": {},
   "outputs": [
    {
     "name": "stdout",
     "output_type": "stream",
     "text": [
      "The multiplication of 2 x 3 =  6\n"
     ]
    }
   ],
   "source": [
    "print (\"The multiplication of 2 x 3 = \", multiply(2,3))\n"
   ]
  }
 ],
 "metadata": {
  "kernelspec": {
   "display_name": "Python 3",
   "language": "python",
   "name": "python3"
  },
  "language_info": {
   "codemirror_mode": {
    "name": "ipython",
    "version": 3
   },
   "file_extension": ".py",
   "mimetype": "text/x-python",
   "name": "python",
   "nbconvert_exporter": "python",
   "pygments_lexer": "ipython3",
   "version": "3.7.10"
  }
 },
 "nbformat": 4,
 "nbformat_minor": 5
}
